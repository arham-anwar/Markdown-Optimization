{
 "cells": [
  {
   "cell_type": "markdown",
   "metadata": {},
   "source": [
    "Automated Data Collected for 200 Runs - Historical Data"
   ]
  },
  {
   "cell_type": "code",
   "execution_count": null,
   "metadata": {},
   "outputs": [],
   "source": [
    "from selenium import webdriver\n",
    "from selenium.webdriver.chrome.service import Service\n",
    "from selenium.webdriver.common.by import By\n",
    "import time\n",
    "import pandas as pd\n",
    "import random\n",
    "import re\n",
    "\n",
    "# Set up the Selenium WebDriver with headless option\n",
    "options = webdriver.ChromeOptions()\n",
    "options.add_argument('--headless')\n",
    "options.add_argument('--disable-gpu')\n",
    "options.add_argument('--window-size=1920,1200')\n",
    "\n",
    "service = Service(r\"C:\\Users\\tashf\\OneDrive\\Desktop\\chromedriver-win64\\chromedriver-win64\\chromedriver.exe\") \n",
    "browser = webdriver.Chrome(service=service, options=options)\n",
    "browser.get(\"http://www.randhawa.us/games/retailer/nyu.html\")\n",
    "\n",
    "# Function to get element by ID\n",
    "def get_element_by_id(id):\n",
    "    return browser.find_element(By.ID, id)\n",
    "\n",
    "# Locate web elements\n",
    "maintain_button = get_element_by_id(\"maintainButton\")\n",
    "drop_10_button = get_element_by_id(\"tenButton\")\n",
    "drop_20_button = get_element_by_id(\"twentyButton\")\n",
    "drop_40_button = get_element_by_id(\"fortyButton\")\n",
    "restart_button = browser.find_element(By.CLASS_NAME, \"button\")\n",
    "\n",
    "# Functions to simulate different discount strategies\n",
    "def apply_discount(strategy):\n",
    "    for week in range(15):\n",
    "        if strategy[week] == 'maintain':\n",
    "            maintain_button.click()\n",
    "        elif strategy[week] == '10%':\n",
    "            drop_10_button.click()\n",
    "        elif strategy[week] == '20%':\n",
    "            drop_20_button.click()\n",
    "        elif strategy[week] == '40%':\n",
    "            drop_40_button.click()\n",
    "        time.sleep(0.1)  # Reduced wait time\n",
    "\n",
    "# Function to extract results from the webpage\n",
    "def extract_results():\n",
    "    week_data = []\n",
    "    for week in range(1, 16):\n",
    "        row = browser.find_element(By.XPATH, f'//tr[td[text()=\"{week}\"]]')\n",
    "        cols = row.find_elements(By.TAG_NAME, \"td\")\n",
    "        week_data.append({\n",
    "            \"Week\": int(cols[0].text),\n",
    "            \"Price\": int(cols[1].text),\n",
    "            \"Sales\": int(cols[2].text),\n",
    "            \"Remaining Inventory\": int(cols[3].text)\n",
    "        })\n",
    "\n",
    "    revenue = int(re.sub(r'[^\\d.]', '', get_element_by_id(\"rev\").text))\n",
    "    perfect_revenue = int(re.sub(r'[^\\d.]', '', get_element_by_id(\"perfect\").text))\n",
    "    difference = float(re.sub(r'[^\\d.]', '', browser.find_element(By.XPATH, '//*[contains(text(), \"Difference:\")]').text.split(\":\")[-1].strip().replace(\"%\", \"\")))\n",
    "\n",
    "    return week_data, revenue, perfect_revenue, difference\n",
    "\n",
    "# Master list to store results from all games\n",
    "all_results = []\n",
    "\n",
    "# Number of games to play\n",
    "n_games = 200\n",
    "\n",
    "# Random strategy generator\n",
    "def generate_ordered_strategy():\n",
    "    strategy = ['maintain'] * 3  # Start with 3 weeks of maintaining price\n",
    "    discounts = ['10%', '20%', '40%']\n",
    "    remaining_weeks = 12\n",
    "\n",
    "    for week in range(remaining_weeks):\n",
    "        if discounts:\n",
    "            choice = random.choice(['maintain'] + discounts)\n",
    "            if choice in discounts:\n",
    "                discounts.remove(choice)\n",
    "        else:\n",
    "            choice = 'maintain'\n",
    "        strategy.append(choice)\n",
    "\n",
    "    return strategy\n",
    "\n",
    "# Play multiple games with different strategies\n",
    "for run_number in range(1, n_games + 1):\n",
    "    restart_button.click()\n",
    "    time.sleep(0.1)  # Reduced wait time\n",
    "\n",
    "    strategy = generate_ordered_strategy()\n",
    "    apply_discount(strategy)\n",
    "\n",
    "    week_data, revenue, perfect_revenue, difference = extract_results()\n",
    "\n",
    "    for week in week_data:\n",
    "        week.update({\n",
    "            \"Run\": run_number,\n",
    "            \"Your Revenue\": revenue,\n",
    "            \"Perfect Revenue\": perfect_revenue,\n",
    "            \"Difference (%)\": difference\n",
    "        })\n",
    "        all_results.append(week)\n",
    "\n",
    "    print(f\"Completed run {run_number} with strategy: {strategy}\")\n",
    "\n",
    "# Convert results to a DataFrame and save to a CSV file\n",
    "results_df = pd.DataFrame(all_results)\n",
    "results_df.to_csv(\"retailer_game_results.csv\", index=False)\n"
   ]
  },
  {
   "cell_type": "markdown",
   "metadata": {},
   "source": [
    "This code automates the simulation of a retailer markdown game using the Selenium WebDriver in headless mode. It sets up the browser to run without a UI, locates necessary web elements, and applies various discount strategies over multiple runs. The strategy starts with maintaining the price for three weeks, then randomly applies one-time discounts of 10%, 20%, or 40%. Results are collected after each game run, including weekly sales data, total revenue, and comparison to an optimal strategy. Finally, the collected data is saved into a CSV file for further analysis."
   ]
  },
  {
   "cell_type": "code",
   "execution_count": 6,
   "metadata": {},
   "outputs": [],
   "source": [
    "import pandas as pd\n",
    "import numpy as np\n",
    "import matplotlib.pyplot as plt\n",
    "import seaborn as sns\n",
    "pd.set_option('display.max_columns', None)\n",
    "pd.set_option('display.max_rows', None)\n"
   ]
  },
  {
   "cell_type": "code",
   "execution_count": 7,
   "metadata": {},
   "outputs": [
    {
     "data": {
      "text/html": [
       "<div>\n",
       "<style scoped>\n",
       "    .dataframe tbody tr th:only-of-type {\n",
       "        vertical-align: middle;\n",
       "    }\n",
       "\n",
       "    .dataframe tbody tr th {\n",
       "        vertical-align: top;\n",
       "    }\n",
       "\n",
       "    .dataframe thead th {\n",
       "        text-align: right;\n",
       "    }\n",
       "</style>\n",
       "<table border=\"1\" class=\"dataframe\">\n",
       "  <thead>\n",
       "    <tr style=\"text-align: right;\">\n",
       "      <th></th>\n",
       "      <th>Run</th>\n",
       "      <th>Week</th>\n",
       "      <th>Price</th>\n",
       "      <th>Sales</th>\n",
       "      <th>Remaining Inventory</th>\n",
       "      <th>Your Revenue</th>\n",
       "      <th>Perfect Revenue</th>\n",
       "      <th>Difference (%)</th>\n",
       "    </tr>\n",
       "  </thead>\n",
       "  <tbody>\n",
       "    <tr>\n",
       "      <th>0</th>\n",
       "      <td>1</td>\n",
       "      <td>1</td>\n",
       "      <td>60</td>\n",
       "      <td>137</td>\n",
       "      <td>1863</td>\n",
       "      <td>89028</td>\n",
       "      <td>120000</td>\n",
       "      <td>25.8</td>\n",
       "    </tr>\n",
       "    <tr>\n",
       "      <th>1</th>\n",
       "      <td>1</td>\n",
       "      <td>2</td>\n",
       "      <td>60</td>\n",
       "      <td>162</td>\n",
       "      <td>1701</td>\n",
       "      <td>89028</td>\n",
       "      <td>120000</td>\n",
       "      <td>25.8</td>\n",
       "    </tr>\n",
       "    <tr>\n",
       "      <th>2</th>\n",
       "      <td>1</td>\n",
       "      <td>3</td>\n",
       "      <td>60</td>\n",
       "      <td>101</td>\n",
       "      <td>1600</td>\n",
       "      <td>89028</td>\n",
       "      <td>120000</td>\n",
       "      <td>25.8</td>\n",
       "    </tr>\n",
       "    <tr>\n",
       "      <th>3</th>\n",
       "      <td>1</td>\n",
       "      <td>4</td>\n",
       "      <td>60</td>\n",
       "      <td>178</td>\n",
       "      <td>1422</td>\n",
       "      <td>89028</td>\n",
       "      <td>120000</td>\n",
       "      <td>25.8</td>\n",
       "    </tr>\n",
       "    <tr>\n",
       "      <th>4</th>\n",
       "      <td>1</td>\n",
       "      <td>5</td>\n",
       "      <td>48</td>\n",
       "      <td>263</td>\n",
       "      <td>1159</td>\n",
       "      <td>89028</td>\n",
       "      <td>120000</td>\n",
       "      <td>25.8</td>\n",
       "    </tr>\n",
       "  </tbody>\n",
       "</table>\n",
       "</div>"
      ],
      "text/plain": [
       "   Run  Week  Price  Sales  Remaining Inventory  Your Revenue  \\\n",
       "0    1     1     60    137                 1863         89028   \n",
       "1    1     2     60    162                 1701         89028   \n",
       "2    1     3     60    101                 1600         89028   \n",
       "3    1     4     60    178                 1422         89028   \n",
       "4    1     5     48    263                 1159         89028   \n",
       "\n",
       "   Perfect Revenue  Difference (%)  \n",
       "0           120000            25.8  \n",
       "1           120000            25.8  \n",
       "2           120000            25.8  \n",
       "3           120000            25.8  \n",
       "4           120000            25.8  "
      ]
     },
     "execution_count": 7,
     "metadata": {},
     "output_type": "execute_result"
    }
   ],
   "source": [
    "df = pd.read_csv(\"retailer_game_results.csv\")\n",
    "df.head()   "
   ]
  },
  {
   "cell_type": "markdown",
   "metadata": {},
   "source": [
    "Visualizing price points in dataset"
   ]
  },
  {
   "cell_type": "code",
   "execution_count": 8,
   "metadata": {},
   "outputs": [
    {
     "data": {
      "text/plain": [
       "<Axes: >"
      ]
     },
     "execution_count": 8,
     "metadata": {},
     "output_type": "execute_result"
    },
    {
     "data": {
      "image/png": "[encoded data removed]",
      "text/plain": [
       "<Figure size 640x480 with 1 Axes>"
      ]
     },
     "metadata": {},
     "output_type": "display_data"
    }
   ],
   "source": [
    "df['Price'].value_counts().plot(kind='bar') "
   ]
  },
  {
   "cell_type": "code",
   "execution_count": 9,
   "metadata": {},
   "outputs": [
    {
     "data": {
      "image/png": "[encoded data removed]",
      "text/plain": [
       "<Figure size 1200x1000 with 4 Axes>"
      ]
     },
     "metadata": {},
     "output_type": "display_data"
    }
   ],
   "source": [
    "# Define the price points you want to analyze\n",
    "price_points = [36, 48, 54, 60]\n",
    "\n",
    "# Filter the dataset for the relevant price points\n",
    "filtered_df = df[df['Price'].isin(price_points)]\n",
    "\n",
    "# Plot the distribution of sales for each price point in separate plots\n",
    "plt.figure(figsize=(12, 10))\n",
    "\n",
    "for i, price in enumerate(price_points, 1):\n",
    "    plt.subplot(2, 2, i)\n",
    "    sns.histplot(filtered_df[filtered_df['Price'] == price]['Sales'], bins=20, kde=False)\n",
    "    plt.title(f'Distribution of Sales for Price {price}')\n",
    "    plt.xlabel('Sales')\n",
    "    plt.ylabel('Counts')\n",
    "    plt.grid(True)\n",
    "\n",
    "plt.tight_layout()\n",
    "plt.show()"
   ]
  },
  {
   "cell_type": "markdown",
   "metadata": {},
   "source": [
    "Distribution of Sales for Price $36:\n",
    "\n",
    "The sales distribution for the price of $36 shows a large number of weeks with very low sales (close to 0), and a peak around 100-150 sales. This indicates that while there were many weeks with low demand, there were also a significant number of weeks with moderate sales. The distribution is right-skewed, suggesting occasional high sales values up to around 600.\n",
    "\n",
    "Distribution of Sales for Price $48:\n",
    "\n",
    "For the price of $48, the distribution of sales is more concentrated around the 100-150 sales range, with a noticeable peak. The sales numbers are fairly spread out, indicating variability in demand at this price point. The distribution shows a slight right skew, with some weeks reaching sales up to 400.\n",
    "\n",
    "Distribution of Sales for Price $54:\n",
    "\n",
    "The sales distribution for the price of $54 shows a roughly uniform spread across the 50-200 sales range, with no single clear peak. This indicates consistent demand at this price level, with relatively even sales numbers across the different weeks. The distribution appears more symmetric compared to other price points.\n",
    "\n",
    "Distribution of Sales for Price $60:\n",
    "\n",
    "At the highest price of $60, the sales distribution shows a peak around 75-100 sales, with a sharp decline as sales numbers increase beyond this range. This suggests that higher prices significantly reduce the number of units sold. The distribution is left-skewed, indicating fewer weeks with high sales numbers and more weeks with lower sales."
   ]
  },
  {
   "cell_type": "code",
   "execution_count": 10,
   "metadata": {},
   "outputs": [
    {
     "data": {
      "text/plain": [
       "Price\n",
       "36    144.808815\n",
       "48    149.987500\n",
       "54    119.676471\n",
       "60     90.766249\n",
       "Name: Sales, dtype: float64"
      ]
     },
     "execution_count": 10,
     "metadata": {},
     "output_type": "execute_result"
    }
   ],
   "source": [
    "# Average sales for each price point\n",
    "avg_sales = filtered_df.groupby('Price')['Sales'].mean()\n",
    "avg_sales"
   ]
  },
  {
   "cell_type": "markdown",
   "metadata": {},
   "source": [
    "Build Linear Model to predict the number of sales at a given week for a certain price"
   ]
  },
  {
   "cell_type": "code",
   "execution_count": 39,
   "metadata": {},
   "outputs": [
    {
     "name": "stdout",
     "output_type": "stream",
     "text": [
      "                            OLS Regression Results                            \n",
      "==============================================================================\n",
      "Dep. Variable:                  Sales   R-squared:                       0.047\n",
      "Model:                            OLS   Adj. R-squared:                  0.047\n",
      "Method:                 Least Squares   F-statistic:                     147.7\n",
      "Date:                Sun, 19 May 2024   Prob (F-statistic):           3.28e-33\n",
      "Time:                        18:13:48   Log-Likelihood:                -18202.\n",
      "No. Observations:                3000   AIC:                         3.641e+04\n",
      "Df Residuals:                    2998   BIC:                         3.642e+04\n",
      "Df Model:                           1                                         \n",
      "Covariance Type:            nonrobust                                         \n",
      "==============================================================================\n",
      "                 coef    std err          t      P>|t|      [0.025      0.975]\n",
      "------------------------------------------------------------------------------\n",
      "Intercept    223.9891      8.057     27.801      0.000     208.192     239.786\n",
      "Price         -2.1434      0.176    -12.153      0.000      -2.489      -1.798\n",
      "==============================================================================\n",
      "Omnibus:                       92.421   Durbin-Watson:                   0.822\n",
      "Prob(Omnibus):                  0.000   Jarque-Bera (JB):              100.344\n",
      "Skew:                           0.439   Prob(JB):                     1.62e-22\n",
      "Kurtosis:                       3.179   Cond. No.                         193.\n",
      "==============================================================================\n",
      "\n",
      "Notes:\n",
      "[1] Standard Errors assume that the covariance matrix of the errors is correctly specified.\n"
     ]
    }
   ],
   "source": [
    "# Linear regression model \n",
    "import statsmodels.formula.api as smf\n",
    "\n",
    "# Fit a linear regression model\n",
    "lm = smf.ols(data=filtered_df, formula=\"Sales ~ Price\").fit()\n",
    "print(lm.summary())"
   ]
  },
  {
   "cell_type": "code",
   "execution_count": 44,
   "metadata": {},
   "outputs": [
    {
     "data": {
      "text/plain": [
       "Intercept    223.989056\n",
       "Price         -2.143431\n",
       "dtype: float64"
      ]
     },
     "execution_count": 44,
     "metadata": {},
     "output_type": "execute_result"
    }
   ],
   "source": [
    "lm.params"
   ]
  },
  {
   "cell_type": "code",
   "execution_count": 40,
   "metadata": {},
   "outputs": [
    {
     "name": "stdout",
     "output_type": "stream",
     "text": [
      "                            OLS Regression Results                            \n",
      "==============================================================================\n",
      "Dep. Variable:                  Sales   R-squared:                       0.439\n",
      "Model:                            OLS   Adj. R-squared:                  0.438\n",
      "Method:                 Least Squares   F-statistic:                     781.4\n",
      "Date:                Sun, 19 May 2024   Prob (F-statistic):               0.00\n",
      "Time:                        18:13:55   Log-Likelihood:                -17408.\n",
      "No. Observations:                3000   AIC:                         3.482e+04\n",
      "Df Residuals:                    2996   BIC:                         3.485e+04\n",
      "Df Model:                           3                                         \n",
      "Covariance Type:            nonrobust                                         \n",
      "==============================================================================\n",
      "                 coef    std err          t      P>|t|      [0.025      0.975]\n",
      "------------------------------------------------------------------------------\n",
      "Intercept    995.5491     18.744     53.114      0.000     958.797    1032.301\n",
      "Price        -14.9418      0.352    -42.487      0.000     -15.631     -14.252\n",
      "Week         -67.1839      2.567    -26.169      0.000     -72.218     -62.150\n",
      "Price:Week     1.0545      0.064     16.539      0.000       0.929       1.180\n",
      "==============================================================================\n",
      "Omnibus:                      153.506   Durbin-Watson:                   1.138\n",
      "Prob(Omnibus):                  0.000   Jarque-Bera (JB):              211.497\n",
      "Skew:                           0.477   Prob(JB):                     1.19e-46\n",
      "Kurtosis:                       3.884   Cond. No.                     4.46e+03\n",
      "==============================================================================\n",
      "\n",
      "Notes:\n",
      "[1] Standard Errors assume that the covariance matrix of the errors is correctly specified.\n",
      "[2] The condition number is large, 4.46e+03. This might indicate that there are\n",
      "strong multicollinearity or other numerical problems.\n"
     ]
    }
   ],
   "source": [
    "# Linear regression model \n",
    "import statsmodels.formula.api as smf\n",
    "\n",
    "# Fit a linear regression model\n",
    "lm1 = smf.ols(data=filtered_df, formula=\"Sales ~ Price + Week + Price:Week\").fit()\n",
    "print(lm1.summary())\n"
   ]
  },
  {
   "cell_type": "code",
   "execution_count": 41,
   "metadata": {},
   "outputs": [
    {
     "data": {
      "text/plain": [
       "Intercept     995.549080\n",
       "Price         -14.941824\n",
       "Week          -67.183900\n",
       "Price:Week      1.054515\n",
       "dtype: float64"
      ]
     },
     "execution_count": 41,
     "metadata": {},
     "output_type": "execute_result"
    }
   ],
   "source": [
    "#Model Parameters\n",
    "lm1.params"
   ]
  },
  {
   "cell_type": "markdown",
   "metadata": {},
   "source": [
    "Second linear regression is better with Higher r2\n",
    "\n",
    "Intercept (995.5491):\n",
    "\n",
    "This is the baseline level of sales when both price and week are zero. Although these values are not practical, the intercept serves as a starting point for the model.\n",
    "Price (-14.9418):\n",
    "\n",
    "This coefficient indicates that for every one-unit increase in price, sales decrease by approximately 14.94 units, holding all other factors constant. This negative relationship is expected, as higher prices generally lead to lower sales.\n",
    "\n",
    "Week (-67.1839):\n",
    "\n",
    "This coefficient shows that for each additional week, sales decrease by about 67.18 units, assuming the price remains constant. This reflects the trend that sales tend to decline as the season progresses, likely due to reduced inventory or decreasing demand over time.\n",
    "\n",
    "Price:Week Interaction (1.0545):\n",
    "\n",
    "The interaction term between price and week suggests that the negative effect of price on sales diminishes slightly over time. Specifically, for each additional week, the impact of price on sales increases by 1.05 units. This means that as the weeks go by, higher prices have a slightly less negative impact on sales"
   ]
  },
  {
   "cell_type": "markdown",
   "metadata": {},
   "source": [
    "## Linear Optimization"
   ]
  },
  {
   "cell_type": "code",
   "execution_count": 53,
   "metadata": {},
   "outputs": [
    {
     "name": "stdout",
     "output_type": "stream",
     "text": [
      "Gurobi Optimizer version 10.0.0 build v10.0.0rc2 (win64)\n",
      "\n",
      "CPU model: 11th Gen Intel(R) Core(TM) i7-1165G7 @ 2.80GHz, instruction set [SSE2|AVX|AVX2|AVX512]\n",
      "Thread count: 4 physical cores, 8 logical processors, using up to 8 threads\n",
      "\n",
      "Optimize a model with 60 rows, 61 columns and 291 nonzeros\n",
      "Model fingerprint: 0x41b31aec\n",
      "Variable types: 1 continuous, 60 integer (60 binary)\n",
      "Coefficient statistics:\n",
      "  Matrix range     [1e+00, 4e+02]\n",
      "  Objective range  [7e+02, 2e+04]\n",
      "  Bounds range     [1e+00, 1e+00]\n",
      "  RHS range        [1e+00, 2e+03]\n",
      "Presolve removed 12 rows and 13 columns\n",
      "Presolve time: 0.00s\n",
      "Presolved: 48 rows, 48 columns, 214 nonzeros\n",
      "Variable types: 0 continuous, 48 integer (48 binary)\n",
      "Found heuristic solution: objective 60961.868119\n",
      "Found heuristic solution: objective 81148.092235\n"
     ]
    },
    {
     "name": "stdout",
     "output_type": "stream",
     "text": [
      "\n",
      "Root relaxation: objective 9.748856e+04, 43 iterations, 0.00 seconds (0.00 work units)\n",
      "\n",
      "    Nodes    |    Current Node    |     Objective Bounds      |     Work\n",
      " Expl Unexpl |  Obj  Depth IntInf | Incumbent    BestBd   Gap | It/Node Time\n",
      "\n",
      "     0     0 97488.5574    0   27 81148.0922 97488.5574  20.1%     -    0s\n",
      "H    0     0                    95434.655469 97488.5574  2.15%     -    0s\n",
      "\n",
      "Explored 1 nodes (43 simplex iterations) in 0.06 seconds (0.00 work units)\n",
      "Thread count was 8 (of 8 available processors)\n",
      "\n",
      "Solution count 3: 95434.7 81148.1 60961.9 \n",
      "\n",
      "Optimal solution found (tolerance 1.00e-04)\n",
      "Best objective 9.543465546917e+04, best bound 9.543465546917e+04, gap 0.0000%\n",
      "Optimal Strategy:\n",
      "Week 1: Price $60\n",
      "Week 2: Price $54\n",
      "Week 3: Price $48\n",
      "Week 4: Price $48\n",
      "Week 5: Price $48\n",
      "Week 6: Price $48\n",
      "Week 7: Price $48\n",
      "Week 8: Price $48\n",
      "Week 9: Price $48\n",
      "Week 10: Price $48\n",
      "Week 11: Price $48\n",
      "Week 12: Price $48\n",
      "Week 13: Price $48\n",
      "Week 14: Price $48\n",
      "Week 15: Price $48\n",
      "\n",
      "Sales for each week:\n",
      "Week 1: Sales 95.13\n",
      "Week 2: Sales 168.21\n",
      "Week 3: Sales 228.64\n",
      "Week 4: Sales 212.07\n",
      "Week 5: Sales 195.51\n",
      "Week 6: Sales 178.94\n",
      "Week 7: Sales 162.37\n",
      "Week 8: Sales 145.80\n",
      "Week 9: Sales 129.24\n",
      "Week 10: Sales 112.67\n",
      "Week 11: Sales 96.10\n",
      "Week 12: Sales 79.54\n",
      "Week 13: Sales 62.97\n",
      "Week 14: Sales 46.40\n",
      "Week 15: Sales 29.83\n",
      "\n",
      "Total Sales: 1943.41\n",
      "Total Revenue: 95434.66\n"
     ]
    }
   ],
   "source": [
    "from gurobipy import Model, GRB, quicksum\n",
    "\n",
    "# Extract coefficients from the regression model\n",
    "intercept = lm1.params['Intercept']\n",
    "price_coeff = lm1.params['Price']\n",
    "week_coeff = lm1.params['Week']\n",
    "interaction_coeff = lm1.params['Price:Week']\n",
    "\n",
    "# Define parameters\n",
    "weeks = 15\n",
    "initial_inventory = 2000\n",
    "prices = [60, 54, 48, 36]\n",
    "price_index = {price: i for i, price in enumerate(prices)}\n",
    "\n",
    "# Create a Gurobi model\n",
    "m = Model(\"retail_pricing\")\n",
    "\n",
    "# Define decision variables\n",
    "# X[p, w] is a binary variable indicating whether price p is chosen in week w\n",
    "X = m.addVars(len(prices), weeks, vtype=GRB.BINARY, name=\"X\")\n",
    "S = m.addVar(name=\"Sales\")\n",
    "\n",
    "# Objective function: Maximize total revenue\n",
    "revenue = quicksum(\n",
    "    prices[i] * X[i, j] * (intercept + price_coeff * prices[i] + (week_coeff + interaction_coeff * prices[i]) * (j + 1))\n",
    "    for i in range(len(prices)) for j in range(weeks)\n",
    ")\n",
    "m.setObjective(revenue, GRB.MAXIMIZE)\n",
    "\n",
    "# Constraint: One price per week\n",
    "m.addConstrs((quicksum(X[i, j] for i in range(len(prices))) == 1 for j in range(weeks)), name=\"PricePerWeek\")\n",
    "\n",
    "# Calculate total sales\n",
    "total_sales = quicksum(\n",
    "    X[i, j] * (intercept + price_coeff * prices[i] + (week_coeff + interaction_coeff * prices[i]) * (j + 1))\n",
    "    for i in range(len(prices)) for j in range(weeks)\n",
    ")\n",
    "m.addConstr(S == total_sales)\n",
    "m.addConstr(S <= initial_inventory, name=\"MaxSales\")\n",
    "\n",
    "# Constraint: Prices can only go down or remain the same\n",
    "for j in range(1, weeks):\n",
    "    for i in range(1, len(prices)):\n",
    "        m.addConstr(quicksum(X[k, j] for k in range(i)) <= quicksum(X[k, j-1] for k in range(i)), name=f\"NonIncreasingPrice_{i}_{j}\")\n",
    "\n",
    "# Constraint: The price in the first week must be $60\n",
    "m.addConstr(X[price_index[60], 0] == 1, name=\"FirstWeekPrice60\")\n",
    "\n",
    "# Additional Constraint to manage inventory\n",
    "#m.addConstr(S >=8*initial_inventory, name=\"MinSales\")\n",
    "\n",
    "# Optimize the model\n",
    "m.optimize()\n",
    "\n",
    "# Extract the solution if the model is optimal\n",
    "if m.status == GRB.OPTIMAL:\n",
    "    optimal_strategy = []\n",
    "    week_sales = []\n",
    "    for w in range(weeks):\n",
    "        for i in range(len(prices)):\n",
    "            if X[i, w].x > 0.5:\n",
    "                optimal_strategy.append((w + 1, prices[i]))\n",
    "                # Calculate and store the sales for this week\n",
    "                sales_value = (intercept + price_coeff * prices[i] + (week_coeff + interaction_coeff * prices[i]) * (w + 1))\n",
    "                week_sales.append(sales_value)\n",
    "\n",
    "    # Print the optimal strategy\n",
    "    print(\"Optimal Strategy:\")\n",
    "    for week, price in optimal_strategy:\n",
    "        print(f\"Week {week}: Price ${price}\")\n",
    "\n",
    "    # Print the sales for each week\n",
    "    print(\"\\nSales for each week:\")\n",
    "    for week, sales in enumerate(week_sales, 1):\n",
    "        print(f\"Week {week}: Sales {sales:.2f}\")\n",
    "    # Print the total sales\n",
    "    print(f\"\\nTotal Sales: {S.x:.2f}\")\n",
    "    # Print the total revenue\n",
    "    print(f\"Total Revenue: {m.objVal:.2f}\")\n",
    "else:\n",
    "    print(\"No optimal solution found.\")\n"
   ]
  },
  {
   "cell_type": "markdown",
   "metadata": {},
   "source": [
    "The objective is to maximize total revenue by deciding the optimal price each week from a set of predefined prices ($60, $54, $48, $36). The optimization model is built using coefficients obtained from a linear regression model, which estimates sales based on price and week.\n",
    "\n",
    "Constraints:\n",
    "\n",
    "One price per week: Ensure only one price is chosen each week.\n",
    "Total sales limit: Ensure total sales do not exceed the initial inventory (2000 units).\n",
    "Non-increasing prices: Ensure prices do not increase over weeks.\n",
    "First week price: Ensure the price in the first week is fixed at $60.\n",
    "\n",
    "Optimization Results\n",
    "The optimization process successfully found an optimal solution with the following key points:\n",
    "\n",
    "Optimal Strategy: The optimal prices for each week, starting from $60 in the first week and then gradually decreasing to $48 from week 3 onward.\n",
    "Sales for Each Week: Estimated sales for each week, starting with 95.13 units in week 1 and decreasing over time.\n",
    "Total Sales: The total estimated sales over 15 weeks, amounting to 1943.41 units.\n",
    "Total Revenue: The total revenue generated from the optimal pricing strategy, amounting to $95,434.66."
   ]
  },
  {
   "cell_type": "markdown",
   "metadata": {},
   "source": []
  }
 ],
 "metadata": {
  "kernelspec": {
   "display_name": "base",
   "language": "python",
   "name": "python3"
  },
  "language_info": {
   "codemirror_mode": {
    "name": "ipython",
    "version": 3
   },
   "file_extension": ".py",
   "mimetype": "text/x-python",
   "name": "python",
   "nbconvert_exporter": "python",
   "pygments_lexer": "ipython3",
   "version": "3.10.13"
  }
 },
 "nbformat": 4,
 "nbformat_minor": 2
}
